{
 "cells": [
  {
   "cell_type": "code",
   "execution_count": 10,
   "id": "8b194433",
   "metadata": {},
   "outputs": [],
   "source": [
    "import numpy as np\n",
    "import tensorflow as tf\n",
    "from tensorflow import keras\n",
    "from tensorflow.keras.layers import Flatten, Dense\n",
    "from sklearn.metrics import confusion_matrix\n",
    "import matplotlib.pyplot as plt\n",
    "from keras.datasets import fashion_mnist\n"
   ]
  },
  {
   "cell_type": "code",
   "execution_count": 11,
   "id": "82dedd0f",
   "metadata": {},
   "outputs": [],
   "source": [
    "\n",
    "(train_images, train_labels), (test_images, test_labels) = fashion_mnist.load_data()\n",
    "selected_indices = [0, 3, 6]\n",
    "train_images, train_labels = train_images[np.isin(train_labels, selected_indices)], train_labels[np.isin(train_labels, selected_indices)]\n",
    "test_images, test_labels = test_images[np.isin(test_labels, selected_indices)], test_labels[np.isin(test_labels, selected_indices)]\n"
   ]
  },
  {
   "cell_type": "code",
   "execution_count": 12,
   "id": "96a36c0d",
   "metadata": {},
   "outputs": [],
   "source": [
    "\n",
    "train_images = train_images / 255.0\n",
    "test_images = test_images / 255.0\n"
   ]
  },
  {
   "cell_type": "code",
   "execution_count": 13,
   "id": "798a801c",
   "metadata": {},
   "outputs": [],
   "source": [
    "model = keras.Sequential([\n",
    "    Flatten(input_shape=(28, 28)),\n",
    "    Dense(128, activation='relu'),\n",
    "    Dense(10, activation='softmax')\n",
    "])\n"
   ]
  },
  {
   "cell_type": "code",
   "execution_count": 14,
   "id": "a37260bc",
   "metadata": {
    "scrolled": true
   },
   "outputs": [
    {
     "name": "stderr",
     "output_type": "stream",
     "text": [
      "WARNING:absl:`lr` is deprecated in Keras optimizer, please use `learning_rate` or use the legacy optimizer, e.g.,tf.keras.optimizers.legacy.Adam.\n",
      "WARNING:absl:`lr` is deprecated in Keras optimizer, please use `learning_rate` or use the legacy optimizer, e.g.,tf.keras.optimizers.legacy.Adam.\n"
     ]
    },
    {
     "name": "stdout",
     "output_type": "stream",
     "text": [
      "Learning rate: 0.001, Test Accuracy: 0.8686666488647461\n"
     ]
    },
    {
     "name": "stderr",
     "output_type": "stream",
     "text": [
      "WARNING:absl:`lr` is deprecated in Keras optimizer, please use `learning_rate` or use the legacy optimizer, e.g.,tf.keras.optimizers.legacy.Adam.\n"
     ]
    },
    {
     "name": "stdout",
     "output_type": "stream",
     "text": [
      "Learning rate: 0.01, Test Accuracy: 0.8723333477973938\n",
      "Learning rate: 0.1, Test Accuracy: 0.8799999952316284\n",
      "Best Learning Rate: 0.1\n"
     ]
    }
   ],
   "source": [
    "learning_rates = [0.001, 0.01, 0.1]\n",
    "best_lr = 0\n",
    "best_accuracy = 0\n",
    "\n",
    "for lr in learning_rates:\n",
    "    model.compile(optimizer=keras.optimizers.Adam(lr=lr),\n",
    "                  loss='sparse_categorical_crossentropy',\n",
    "                  metrics=['accuracy'])\n",
    "    \n",
    "    model.fit(train_images, train_labels, epochs=10, validation_split=0.2, verbose=0)\n",
    "    \n",
    "    test_loss, test_accuracy = model.evaluate(test_images, test_labels, verbose=0)\n",
    "    print(f\"Learning rate: {lr}, Test Accuracy: {test_accuracy}\")\n",
    "    \n",
    "    if test_accuracy > best_accuracy:\n",
    "        best_accuracy = test_accuracy\n",
    "        best_lr = lr\n",
    "\n",
    "print(f\"Best Learning Rate: {best_lr}\")\n"
   ]
  },
  {
   "cell_type": "code",
   "execution_count": 15,
   "id": "beefaa13",
   "metadata": {},
   "outputs": [
    {
     "name": "stderr",
     "output_type": "stream",
     "text": [
      "WARNING:absl:`lr` is deprecated in Keras optimizer, please use `learning_rate` or use the legacy optimizer, e.g.,tf.keras.optimizers.legacy.Adam.\n"
     ]
    },
    {
     "name": "stdout",
     "output_type": "stream",
     "text": [
      "Epoch 1/10\n",
      "450/450 [==============================] - 1s 1ms/step - loss: 0.1344 - accuracy: 0.9482 - val_loss: 0.3700 - val_accuracy: 0.8867\n",
      "Epoch 2/10\n",
      "450/450 [==============================] - 0s 887us/step - loss: 0.1322 - accuracy: 0.9484 - val_loss: 0.3640 - val_accuracy: 0.8814\n",
      "Epoch 3/10\n",
      "450/450 [==============================] - 0s 876us/step - loss: 0.1282 - accuracy: 0.9499 - val_loss: 0.3413 - val_accuracy: 0.8869\n",
      "Epoch 4/10\n",
      "450/450 [==============================] - 0s 885us/step - loss: 0.1253 - accuracy: 0.9522 - val_loss: 0.3539 - val_accuracy: 0.8817\n",
      "Epoch 5/10\n",
      "450/450 [==============================] - 0s 927us/step - loss: 0.1168 - accuracy: 0.9549 - val_loss: 0.3447 - val_accuracy: 0.8844\n",
      "Epoch 6/10\n",
      "450/450 [==============================] - 0s 876us/step - loss: 0.1112 - accuracy: 0.9564 - val_loss: 0.3679 - val_accuracy: 0.8833\n",
      "Epoch 7/10\n",
      "450/450 [==============================] - 0s 883us/step - loss: 0.1127 - accuracy: 0.9557 - val_loss: 0.3900 - val_accuracy: 0.8814\n",
      "Epoch 8/10\n",
      "450/450 [==============================] - 0s 878us/step - loss: 0.1119 - accuracy: 0.9569 - val_loss: 0.3833 - val_accuracy: 0.8853\n",
      "Epoch 9/10\n",
      "450/450 [==============================] - 0s 878us/step - loss: 0.1031 - accuracy: 0.9604 - val_loss: 0.3770 - val_accuracy: 0.8772\n",
      "Epoch 10/10\n",
      "450/450 [==============================] - 0s 885us/step - loss: 0.1025 - accuracy: 0.9615 - val_loss: 0.3852 - val_accuracy: 0.8833\n"
     ]
    },
    {
     "data": {
      "text/plain": [
       "<keras.callbacks.History at 0x1c181ee7940>"
      ]
     },
     "execution_count": 15,
     "metadata": {},
     "output_type": "execute_result"
    }
   ],
   "source": [
    "model.compile(optimizer=keras.optimizers.Adam(lr=best_lr),\n",
    "              loss='sparse_categorical_crossentropy',\n",
    "              metrics=['accuracy'])\n",
    "\n",
    "model.fit(train_images, train_labels, epochs=10, validation_split=0.2)\n"
   ]
  },
  {
   "cell_type": "code",
   "execution_count": 16,
   "id": "1d7b9474",
   "metadata": {},
   "outputs": [
    {
     "name": "stdout",
     "output_type": "stream",
     "text": [
      "94/94 [==============================] - 0s 495us/step\n",
      "Confusion Matrix:\n",
      " [[822  15 163]\n",
      " [ 27 921  52]\n",
      " [ 96  28 876]]\n"
     ]
    }
   ],
   "source": [
    "predictions = model.predict(test_images)\n",
    "predicted_labels = np.argmax(predictions, axis=1)\n",
    "\n",
    "cm = confusion_matrix(test_labels, predicted_labels)\n",
    "print(\"Confusion Matrix:\\n\", cm)\n"
   ]
  },
  {
   "cell_type": "code",
   "execution_count": 17,
   "id": "2da19992",
   "metadata": {},
   "outputs": [
    {
     "data": {
      "image/png": "[encoded data removed]",
      "text/plain": [
       "<Figure size 1000x1000 with 9 Axes>"
      ]
     },
     "metadata": {},
     "output_type": "display_data"
    }
   ],
   "source": [
    "def plot_images(images, labels, predictions=None):\n",
    "    \n",
    "    class_names = ['T-shirt/top', 'Trouser', 'Pullover', 'Dress', 'Coat',\n",
    "                   'Sandal', 'Shirt', 'Sneaker', 'Bag', 'Ankle boot']\n",
    "    \n",
    "    selected_class_names = [class_names[i] for i in selected_indices]\n",
    "\n",
    "    fig, axes = plt.subplots(3, 3, figsize=(10, 10))\n",
    "    axes = axes.ravel()\n",
    "\n",
    "    for i, ax in enumerate(axes):\n",
    "        ax.imshow(images[i], cmap=plt.cm.binary)\n",
    "        true_label = selected_class_names[selected_indices.index(labels[i])]\n",
    "        if predictions is None:\n",
    "            title = f\"True: {true_label}\"\n",
    "        else:\n",
    "            pred_label = selected_class_names[selected_indices.index(predictions[i])]\n",
    "            title = f\"True: {true_label}, Pred: {pred_label}\"\n",
    "        ax.set_title(title)\n",
    "        ax.axis('off')\n",
    "\n",
    "    plt.subplots_adjust(wspace=0.5, hspace=0.5)\n",
    "    plt.show()\n",
    "\n",
    "sample_images, sample_labels = test_images[:9], test_labels[:9]\n",
    "sample_predictions = predicted_labels[:9]\n",
    "\n",
    "plot_images(sample_images, sample_labels, sample_predictions)\n",
    "\n"
   ]
  },
  {
   "cell_type": "code",
   "execution_count": null,
   "id": "50564446",
   "metadata": {},
   "outputs": [],
   "source": []
  },
  {
   "cell_type": "code",
   "execution_count": null,
   "id": "432ea4f4",
   "metadata": {},
   "outputs": [],
   "source": []
  },
  {
   "cell_type": "code",
   "execution_count": null,
   "id": "7925bb72",
   "metadata": {},
   "outputs": [],
   "source": []
  }
 ],
 "metadata": {
  "kernelspec": {
   "display_name": "Python 3 (ipykernel)",
   "language": "python",
   "name": "python3"
  },
  "language_info": {
   "codemirror_mode": {
    "name": "ipython",
    "version": 3
   },
   "file_extension": ".py",
   "mimetype": "text/x-python",
   "name": "python",
   "nbconvert_exporter": "python",
   "pygments_lexer": "ipython3",
   "version": "3.9.13"
  }
 },
 "nbformat": 4,
 "nbformat_minor": 5
}
